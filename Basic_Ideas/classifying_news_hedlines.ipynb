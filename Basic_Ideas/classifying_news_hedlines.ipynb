{
  "cells": [
    {
      "cell_type": "markdown",
      "metadata": {
        "colab_type": "text",
        "id": "view-in-github"
      },
      "source": [
        "<a href=\"https://colab.research.google.com/github/dswh/lil_nlp_with_tensorflow/blob/main/02_04_end.ipynb\" target=\"_parent\"><img src=\"https://colab.research.google.com/assets/colab-badge.svg\" alt=\"Open In Colab\"/></a>"
      ]
    },
    {
      "cell_type": "markdown",
      "metadata": {
        "id": "lTguFckTEDWd"
      },
      "source": [
        "# Classifying News Headlines\n",
        "\n",
        "This notebook explains the classification of news headlines as sarcastic and non-sarcastic. We are using the same headlines data as used before.\n"
      ]
    },
    {
      "cell_type": "code",
      "execution_count": 1,
      "metadata": {
        "colab": {
          "base_uri": "https://localhost:8080/"
        },
        "id": "9mW3Mt2q5kL2",
        "outputId": "02bc5f8e-871c-4aa0-ce66-5dc580bca0c9"
      },
      "outputs": [
        {
          "name": "stdout",
          "output_type": "stream",
          "text": [
            "2.13.0\n"
          ]
        }
      ],
      "source": [
        "##import the required libraries and APIs\n",
        "import numpy as np\n",
        "import tensorflow as tf\n",
        "from tensorflow.keras.preprocessing.text import Tokenizer\n",
        "from tensorflow.keras.preprocessing.sequence import pad_sequences\n",
        "\n",
        "print(tf.__version__)"
      ]
    },
    {
      "cell_type": "markdown",
      "metadata": {
        "id": "2rhw0j_s5UZ2"
      },
      "source": [
        "## Downloading the News Headlines data"
      ]
    },
    {
      "cell_type": "code",
      "execution_count": 2,
      "metadata": {
        "colab": {
          "base_uri": "https://localhost:8080/",
          "height": 202
        },
        "id": "qfu_3u4yWjJy",
        "outputId": "3fcbca4c-d249-4a36-c447-6a964a9443f4"
      },
      "outputs": [
        {
          "data": {
            "text/html": [
              "<div>\n",
              "<style scoped>\n",
              "    .dataframe tbody tr th:only-of-type {\n",
              "        vertical-align: middle;\n",
              "    }\n",
              "\n",
              "    .dataframe tbody tr th {\n",
              "        vertical-align: top;\n",
              "    }\n",
              "\n",
              "    .dataframe thead th {\n",
              "        text-align: right;\n",
              "    }\n",
              "</style>\n",
              "<table border=\"1\" class=\"dataframe\">\n",
              "  <thead>\n",
              "    <tr style=\"text-align: right;\">\n",
              "      <th></th>\n",
              "      <th>is_sarcastic</th>\n",
              "      <th>headline</th>\n",
              "      <th>article_link</th>\n",
              "    </tr>\n",
              "  </thead>\n",
              "  <tbody>\n",
              "    <tr>\n",
              "      <th>0</th>\n",
              "      <td>1</td>\n",
              "      <td>thirtysomething scientists unveil doomsday clo...</td>\n",
              "      <td>https://www.theonion.com/thirtysomething-scien...</td>\n",
              "    </tr>\n",
              "    <tr>\n",
              "      <th>1</th>\n",
              "      <td>0</td>\n",
              "      <td>dem rep. totally nails why congress is falling...</td>\n",
              "      <td>https://www.huffingtonpost.com/entry/donna-edw...</td>\n",
              "    </tr>\n",
              "    <tr>\n",
              "      <th>2</th>\n",
              "      <td>0</td>\n",
              "      <td>eat your veggies: 9 deliciously different recipes</td>\n",
              "      <td>https://www.huffingtonpost.com/entry/eat-your-...</td>\n",
              "    </tr>\n",
              "    <tr>\n",
              "      <th>3</th>\n",
              "      <td>1</td>\n",
              "      <td>inclement weather prevents liar from getting t...</td>\n",
              "      <td>https://local.theonion.com/inclement-weather-p...</td>\n",
              "    </tr>\n",
              "    <tr>\n",
              "      <th>4</th>\n",
              "      <td>1</td>\n",
              "      <td>mother comes pretty close to using word 'strea...</td>\n",
              "      <td>https://www.theonion.com/mother-comes-pretty-c...</td>\n",
              "    </tr>\n",
              "  </tbody>\n",
              "</table>\n",
              "</div>"
            ],
            "text/plain": [
              "   is_sarcastic                                           headline  \\\n",
              "0             1  thirtysomething scientists unveil doomsday clo...   \n",
              "1             0  dem rep. totally nails why congress is falling...   \n",
              "2             0  eat your veggies: 9 deliciously different recipes   \n",
              "3             1  inclement weather prevents liar from getting t...   \n",
              "4             1  mother comes pretty close to using word 'strea...   \n",
              "\n",
              "                                        article_link  \n",
              "0  https://www.theonion.com/thirtysomething-scien...  \n",
              "1  https://www.huffingtonpost.com/entry/donna-edw...  \n",
              "2  https://www.huffingtonpost.com/entry/eat-your-...  \n",
              "3  https://local.theonion.com/inclement-weather-p...  \n",
              "4  https://www.theonion.com/mother-comes-pretty-c...  "
            ]
          },
          "execution_count": 2,
          "metadata": {},
          "output_type": "execute_result"
        }
      ],
      "source": [
        "##read the the json file using pandas\n",
        "import pandas as pd\n",
        "\n",
        "data = pd.read_json(\"https://storage.googleapis.com/wdd-2-node.appspot.com/x1.json\")\n",
        "data.head()"
      ]
    },
    {
      "cell_type": "code",
      "execution_count": 3,
      "metadata": {
        "colab": {
          "base_uri": "https://localhost:8080/"
        },
        "id": "sTSNIaUlRDzP",
        "outputId": "c87aa6d7-825e-4ac3-e977-8c0db8b57424"
      },
      "outputs": [
        {
          "name": "stdout",
          "output_type": "stream",
          "text": [
            "<class 'pandas.core.frame.DataFrame'>\n",
            "RangeIndex: 28619 entries, 0 to 28618\n",
            "Data columns (total 3 columns):\n",
            " #   Column        Non-Null Count  Dtype \n",
            "---  ------        --------------  ----- \n",
            " 0   is_sarcastic  28619 non-null  int64 \n",
            " 1   headline      28619 non-null  object\n",
            " 2   article_link  28619 non-null  object\n",
            "dtypes: int64(1), object(2)\n",
            "memory usage: 670.9+ KB\n"
          ]
        }
      ],
      "source": [
        "data.info()"
      ]
    },
    {
      "cell_type": "code",
      "execution_count": 4,
      "metadata": {
        "id": "2Q5KWU5sarBZ"
      },
      "outputs": [],
      "source": [
        "##store headlines and labels in respective lists\n",
        "headlines = list(data['headline'])\n",
        "labels = list(data['is_sarcastic'])"
      ]
    },
    {
      "cell_type": "markdown",
      "metadata": {
        "id": "XrePJ_GANUzv"
      },
      "source": [
        "## Set the parameters"
      ]
    },
    {
      "cell_type": "code",
      "execution_count": 5,
      "metadata": {
        "id": "SaOVx5_QWZJw"
      },
      "outputs": [],
      "source": [
        "##define tokenizing and padding parameters\n",
        "vocab_size = 10000\n",
        "max_length = 120\n",
        "embedding_dim = 16\n",
        "trunc_type='post'\n",
        "padding_type='post'\n",
        "oov_tok = \"<OOV>\"\n",
        "training_size = 20000"
      ]
    },
    {
      "cell_type": "markdown",
      "metadata": {
        "id": "TOa0z54JHTtq"
      },
      "source": [
        "## Splitting the training and testing set"
      ]
    },
    {
      "cell_type": "code",
      "execution_count": 6,
      "metadata": {
        "id": "iPCBLuAYWg-m"
      },
      "outputs": [],
      "source": [
        "##sentences\n",
        "training_sentences = headlines[0:training_size]\n",
        "testing_sentences = headlines[training_size:]\n",
        "\n",
        "##labels\n",
        "training_labels = labels[0:training_size]\n",
        "testing_labels = labels[training_size:]"
      ]
    },
    {
      "cell_type": "markdown",
      "metadata": {
        "id": "2YPzEKN-NnTx"
      },
      "source": [
        "## Preprocess sentences\n"
      ]
    },
    {
      "cell_type": "code",
      "execution_count": 7,
      "metadata": {
        "id": "N4k_tDKJYSCL"
      },
      "outputs": [],
      "source": [
        "tokenizer = Tokenizer(num_words=vocab_size, oov_token=oov_tok)\n",
        "tokenizer.fit_on_texts(training_sentences)\n",
        "\n",
        "word_index = tokenizer.word_index\n",
        "\n",
        "training_sequences = tokenizer.texts_to_sequences(training_sentences)\n",
        "training_padded = pad_sequences(training_sequences, maxlen=max_length, padding=padding_type, truncating=trunc_type)\n",
        "\n",
        "testing_sequences = tokenizer.texts_to_sequences(testing_sentences)\n",
        "testing_padded = pad_sequences(testing_sequences, maxlen=max_length, padding=padding_type, truncating=trunc_type)"
      ]
    },
    {
      "cell_type": "code",
      "execution_count": 8,
      "metadata": {
        "id": "hFZGH6WXeZAZ"
      },
      "outputs": [],
      "source": [
        "# convert lists into numpy arrays to make it work with TensorFlow 2.x\n",
        "training_padded = np.array(training_padded)\n",
        "training_labels = np.array(training_labels)\n",
        "testing_padded = np.array(testing_padded)\n",
        "testing_labels = np.array(testing_labels)"
      ]
    },
    {
      "cell_type": "markdown",
      "metadata": {
        "id": "ZpBlIwAz7InY"
      },
      "source": [
        "## Define the neural network model with the following layers:\n",
        "1. Embedding layer\n",
        "2. Global Average pooling layer(1D)\n",
        "3. Dense layer with 24 nodes\n",
        "4. Output Dense layer with `sigmoid` activation "
      ]
    },
    {
      "cell_type": "code",
      "execution_count": 9,
      "metadata": {
        "id": "JdDjMIDFebsD"
      },
      "outputs": [],
      "source": [
        "model = tf.keras.Sequential([\n",
        "    tf.keras.layers.Embedding(vocab_size, embedding_dim, input_length=max_length),\n",
        "    tf.keras.layers.GlobalAveragePooling1D(),\n",
        "    tf.keras.layers.Dense(24, activation='relu'),\n",
        "    tf.keras.layers.Dense(1, activation='sigmoid')\n",
        "])\n",
        "\n",
        "##compile the model\n",
        "model.compile(loss='binary_crossentropy',optimizer='adam',metrics=['accuracy'])"
      ]
    },
    {
      "cell_type": "code",
      "execution_count": 10,
      "metadata": {
        "colab": {
          "base_uri": "https://localhost:8080/"
        },
        "id": "si5PeFv4ed5J",
        "outputId": "4958ca25-5108-4c9a-fd71-3f848c0f4c10"
      },
      "outputs": [
        {
          "name": "stdout",
          "output_type": "stream",
          "text": [
            "Model: \"sequential\"\n",
            "_________________________________________________________________\n",
            " Layer (type)                Output Shape              Param #   \n",
            "=================================================================\n",
            " embedding (Embedding)       (None, 120, 16)           160000    \n",
            "                                                                 \n",
            " global_average_pooling1d (  (None, 16)                0         \n",
            " GlobalAveragePooling1D)                                         \n",
            "                                                                 \n",
            " dense (Dense)               (None, 24)                408       \n",
            "                                                                 \n",
            " dense_1 (Dense)             (None, 1)                 25        \n",
            "                                                                 \n",
            "=================================================================\n",
            "Total params: 160433 (626.69 KB)\n",
            "Trainable params: 160433 (626.69 KB)\n",
            "Non-trainable params: 0 (0.00 Byte)\n",
            "_________________________________________________________________\n"
          ]
        }
      ],
      "source": [
        "model.summary()"
      ]
    },
    {
      "cell_type": "markdown",
      "metadata": {
        "id": "q4Sk9WRYHbRh"
      },
      "source": [
        "## Train the model\n",
        "\n",
        "Save it into history"
      ]
    },
    {
      "cell_type": "code",
      "execution_count": 11,
      "metadata": {
        "colab": {
          "base_uri": "https://localhost:8080/"
        },
        "id": "uuejoPk0efeb",
        "outputId": "fb476f42-56b6-4d74-d1bb-693dd6a588ad"
      },
      "outputs": [
        {
          "name": "stdout",
          "output_type": "stream",
          "text": [
            "Epoch 1/30\n",
            "625/625 - 5s - loss: 0.6766 - accuracy: 0.5954 - val_loss: 0.6145 - val_accuracy: 0.7590 - 5s/epoch - 8ms/step\n",
            "Epoch 2/30\n",
            "625/625 - 3s - loss: 0.4758 - accuracy: 0.8184 - val_loss: 0.3993 - val_accuracy: 0.8319 - 3s/epoch - 4ms/step\n",
            "Epoch 3/30\n",
            "625/625 - 3s - loss: 0.3405 - accuracy: 0.8634 - val_loss: 0.3515 - val_accuracy: 0.8485 - 3s/epoch - 5ms/step\n",
            "Epoch 4/30\n",
            "625/625 - 3s - loss: 0.2864 - accuracy: 0.8872 - val_loss: 0.3374 - val_accuracy: 0.8549 - 3s/epoch - 5ms/step\n",
            "Epoch 5/30\n",
            "625/625 - 3s - loss: 0.2510 - accuracy: 0.9028 - val_loss: 0.3289 - val_accuracy: 0.8580 - 3s/epoch - 4ms/step\n",
            "Epoch 6/30\n",
            "625/625 - 3s - loss: 0.2217 - accuracy: 0.9154 - val_loss: 0.3334 - val_accuracy: 0.8521 - 3s/epoch - 4ms/step\n",
            "Epoch 7/30\n",
            "625/625 - 2s - loss: 0.2001 - accuracy: 0.9244 - val_loss: 0.3391 - val_accuracy: 0.8551 - 2s/epoch - 4ms/step\n",
            "Epoch 8/30\n",
            "625/625 - 3s - loss: 0.1813 - accuracy: 0.9337 - val_loss: 0.3415 - val_accuracy: 0.8561 - 3s/epoch - 4ms/step\n",
            "Epoch 9/30\n",
            "625/625 - 3s - loss: 0.1656 - accuracy: 0.9391 - val_loss: 0.3514 - val_accuracy: 0.8530 - 3s/epoch - 4ms/step\n",
            "Epoch 10/30\n",
            "625/625 - 3s - loss: 0.1513 - accuracy: 0.9462 - val_loss: 0.3664 - val_accuracy: 0.8495 - 3s/epoch - 4ms/step\n",
            "Epoch 11/30\n",
            "625/625 - 3s - loss: 0.1398 - accuracy: 0.9492 - val_loss: 0.3781 - val_accuracy: 0.8491 - 3s/epoch - 4ms/step\n",
            "Epoch 12/30\n",
            "625/625 - 3s - loss: 0.1274 - accuracy: 0.9547 - val_loss: 0.3956 - val_accuracy: 0.8453 - 3s/epoch - 4ms/step\n",
            "Epoch 13/30\n",
            "625/625 - 2s - loss: 0.1191 - accuracy: 0.9589 - val_loss: 0.4171 - val_accuracy: 0.8409 - 2s/epoch - 4ms/step\n",
            "Epoch 14/30\n",
            "625/625 - 2s - loss: 0.1102 - accuracy: 0.9628 - val_loss: 0.4741 - val_accuracy: 0.8314 - 2s/epoch - 4ms/step\n",
            "Epoch 15/30\n",
            "625/625 - 2s - loss: 0.1033 - accuracy: 0.9654 - val_loss: 0.4542 - val_accuracy: 0.8346 - 2s/epoch - 3ms/step\n",
            "Epoch 16/30\n",
            "625/625 - 2s - loss: 0.0953 - accuracy: 0.9682 - val_loss: 0.5210 - val_accuracy: 0.8286 - 2s/epoch - 4ms/step\n",
            "Epoch 17/30\n",
            "625/625 - 2s - loss: 0.0885 - accuracy: 0.9707 - val_loss: 0.5113 - val_accuracy: 0.8265 - 2s/epoch - 4ms/step\n",
            "Epoch 18/30\n",
            "625/625 - 3s - loss: 0.0812 - accuracy: 0.9743 - val_loss: 0.5219 - val_accuracy: 0.8308 - 3s/epoch - 5ms/step\n",
            "Epoch 19/30\n",
            "625/625 - 3s - loss: 0.0781 - accuracy: 0.9735 - val_loss: 0.5504 - val_accuracy: 0.8283 - 3s/epoch - 4ms/step\n",
            "Epoch 20/30\n",
            "625/625 - 2s - loss: 0.0725 - accuracy: 0.9771 - val_loss: 0.5716 - val_accuracy: 0.8250 - 2s/epoch - 4ms/step\n",
            "Epoch 21/30\n",
            "625/625 - 2s - loss: 0.0667 - accuracy: 0.9780 - val_loss: 0.5988 - val_accuracy: 0.8254 - 2s/epoch - 4ms/step\n",
            "Epoch 22/30\n",
            "625/625 - 2s - loss: 0.0609 - accuracy: 0.9811 - val_loss: 0.6509 - val_accuracy: 0.8224 - 2s/epoch - 3ms/step\n",
            "Epoch 23/30\n",
            "625/625 - 2s - loss: 0.0572 - accuracy: 0.9831 - val_loss: 0.6558 - val_accuracy: 0.8199 - 2s/epoch - 3ms/step\n",
            "Epoch 24/30\n",
            "625/625 - 2s - loss: 0.0550 - accuracy: 0.9829 - val_loss: 0.6868 - val_accuracy: 0.8190 - 2s/epoch - 4ms/step\n",
            "Epoch 25/30\n",
            "625/625 - 2s - loss: 0.0498 - accuracy: 0.9855 - val_loss: 0.7159 - val_accuracy: 0.8189 - 2s/epoch - 3ms/step\n",
            "Epoch 26/30\n",
            "625/625 - 2s - loss: 0.0471 - accuracy: 0.9863 - val_loss: 0.7489 - val_accuracy: 0.8175 - 2s/epoch - 3ms/step\n",
            "Epoch 27/30\n",
            "625/625 - 2s - loss: 0.0446 - accuracy: 0.9872 - val_loss: 0.7881 - val_accuracy: 0.8161 - 2s/epoch - 4ms/step\n",
            "Epoch 28/30\n",
            "625/625 - 2s - loss: 0.0406 - accuracy: 0.9887 - val_loss: 0.8138 - val_accuracy: 0.8139 - 2s/epoch - 3ms/step\n",
            "Epoch 29/30\n",
            "625/625 - 2s - loss: 0.0395 - accuracy: 0.9877 - val_loss: 0.8318 - val_accuracy: 0.8145 - 2s/epoch - 3ms/step\n",
            "Epoch 30/30\n",
            "625/625 - 2s - loss: 0.0361 - accuracy: 0.9903 - val_loss: 0.9630 - val_accuracy: 0.8054 - 2s/epoch - 4ms/step\n"
          ]
        }
      ],
      "source": [
        "num_epochs = 30\n",
        "history = model.fit(training_padded, \n",
        "                    training_labels, \n",
        "                    epochs=num_epochs, \n",
        "                    validation_data=(testing_padded, testing_labels), \n",
        "                    verbose=2)"
      ]
    },
    {
      "cell_type": "markdown",
      "metadata": {
        "id": "35BigeicGmRo"
      },
      "source": [
        "## Visualise the train & validation accuracy and loss"
      ]
    },
    {
      "cell_type": "code",
      "execution_count": 12,
      "metadata": {
        "colab": {
          "base_uri": "https://localhost:8080/",
          "height": 541
        },
        "id": "iMQAQr-uehOD",
        "outputId": "676645b4-66fe-4770-ba7c-c15a51bbfb94"
      },
      "outputs": [
        {
          "data": {
            "image/png": "[encoded data removed]",
            "text/plain": [
              "<Figure size 640x480 with 1 Axes>"
            ]
          },
          "metadata": {},
          "output_type": "display_data"
        },
        {
          "data": {
            "image/png": "[encoded data removed]",
            "text/plain": [
              "<Figure size 640x480 with 1 Axes>"
            ]
          },
          "metadata": {},
          "output_type": "display_data"
        }
      ],
      "source": [
        "import matplotlib.pyplot as plt\n",
        "\n",
        "##plot the scores from history\n",
        "def plot_graphs(history, string):\n",
        "  plt.plot(history.history[string])\n",
        "  plt.plot(history.history['val_'+string])\n",
        "  plt.legend([string, 'val_'+string])\n",
        "  plt.xlabel(\"Epochs\")\n",
        "  plt.ylabel(string)\n",
        "  plt.show()\n",
        "  \n",
        "plot_graphs(history, \"accuracy\")\n",
        "plot_graphs(history, \"loss\")"
      ]
    },
    {
      "cell_type": "markdown",
      "metadata": {
        "id": "FLuGAkBaGzaP"
      },
      "source": [
        "## Classifying a new sentence"
      ]
    },
    {
      "cell_type": "code",
      "execution_count": 13,
      "metadata": {
        "colab": {
          "base_uri": "https://localhost:8080/"
        },
        "id": "2cVc8w-tejyj",
        "outputId": "c632b8e8-4d7f-4668-adb1-def7ce500716"
      },
      "outputs": [
        {
          "name": "stdout",
          "output_type": "stream",
          "text": [
            "1/1 [==============================] - 0s 123ms/step\n",
            "[[0.00158141]\n",
            " [0.00078415]]\n"
          ]
        }
      ],
      "source": [
        "sentence = [\"the baby boy fears spiders in the garden might be real\", \"game of thrones season finale showing this sunday night\"]\n",
        "\n",
        "##prepare the sequences of the sentences in question\n",
        "sequences = tokenizer.texts_to_sequences(sentence)\n",
        "padded_seqs = pad_sequences(sequences, maxlen=max_length, padding=padding_type, truncating=trunc_type)\n",
        "\n",
        "print(model.predict(padded_seqs))"
      ]
    }
  ],
  "metadata": {
    "colab": {
      "authorship_tag": "ABX9TyNvSRMrhKZ3g0tzFklpC0Q2",
      "collapsed_sections": [],
      "include_colab_link": true,
      "name": "02_04_end.ipynb",
      "provenance": []
    },
    "kernelspec": {
      "display_name": "Python 3",
      "language": "python",
      "name": "python3"
    },
    "language_info": {
      "codemirror_mode": {
        "name": "ipython",
        "version": 3
      },
      "file_extension": ".py",
      "mimetype": "text/x-python",
      "name": "python",
      "nbconvert_exporter": "python",
      "pygments_lexer": "ipython3",
      "version": "3.11.4 (tags/v3.11.4:d2340ef, Jun  7 2023, 05:45:37) [MSC v.1934 64 bit (AMD64)]"
    },
    "vscode": {
      "interpreter": {
        "hash": "bc79bed0333a930cf313cce049ab372a42592ca5c98a7908a8e03647c11d42bc"
      }
    }
  },
  "nbformat": 4,
  "nbformat_minor": 0
}
